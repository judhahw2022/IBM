{
 "cells": [
  {
   "cell_type": "markdown",
   "id": "3b6497f2",
   "metadata": {},
   "source": [
    "# Data Science Tools and Ecosystem"
   ]
  },
  {
   "cell_type": "markdown",
   "id": "c6dc655a",
   "metadata": {},
   "source": [
    "In this notebook Data Science tools and ecosytem are summarized."
   ]
  },
  {
   "cell_type": "markdown",
   "id": "3e7820cc",
   "metadata": {},
   "source": [
    "    Some of the popular languages that data scientists use are:\n",
    "    1. Python\n",
    "    2. R\n",
    "    3. Java\n",
    "    4. C++\n",
    "    5. Scala\n",
    "    6. Julia"
   ]
  },
  {
   "cell_type": "markdown",
   "id": "2413aa90",
   "metadata": {},
   "source": [
    "    Some of the libraries commonly used by Data Scientists include:\n",
    "    1. pandas\n",
    "    2. numpy\n",
    "    3. scikit-learn"
   ]
  },
  {
   "cell_type": "markdown",
   "id": "a7b43f2a",
   "metadata": {},
   "source": [
    "|Data Science Tools|\n",
    "|------------------|\n",
    "| Jupyter Notebook |\n",
    "| Apache Zeppelin  |\n",
    "|     KNIME        |"
   ]
  },
  {
   "cell_type": "markdown",
   "id": "689f8841",
   "metadata": {},
   "source": [
    "### Below are a few examples of evaluating arithmetic expressions in Python"
   ]
  },
  {
   "cell_type": "code",
   "execution_count": 9,
   "id": "aece70e5",
   "metadata": {},
   "outputs": [
    {
     "data": {
      "text/plain": [
       "17"
      ]
     },
     "execution_count": 9,
     "metadata": {},
     "output_type": "execute_result"
    }
   ],
   "source": [
    "#This is a simple arithmetic expression to multiply then add integers#\n",
    "(3*4)+5"
   ]
  },
  {
   "cell_type": "code",
   "execution_count": 10,
   "id": "f422bffb",
   "metadata": {},
   "outputs": [
    {
     "data": {
      "text/plain": [
       "3.3333333333333335"
      ]
     },
     "execution_count": 10,
     "metadata": {},
     "output_type": "execute_result"
    }
   ],
   "source": [
    "#This will convert 200 minutes to hours by dividing by 60.#\n",
    "200/60"
   ]
  },
  {
   "cell_type": "markdown",
   "id": "12c06916",
   "metadata": {},
   "source": [
    " __Objectives__\n",
    " - Summarize data science tools and ecosystem\n",
    " - List popular languages for data science\n",
    " - List popular libraries commonly used by data scientists\n",
    " - List popularly used data science tools\n",
    " - Show example of evaluation of arithmetic expressions\n",
    " - Show example of conversion between formats (minutes to hours) using division."
   ]
  },
  {
   "cell_type": "markdown",
   "id": "6beabedb",
   "metadata": {},
   "source": [
    "## Author\n",
    "\n",
    "Judhajit Sanyal"
   ]
  }
 ],
 "metadata": {
  "kernelspec": {
   "display_name": "Python 3 (ipykernel)",
   "language": "python",
   "name": "python3"
  },
  "language_info": {
   "codemirror_mode": {
    "name": "ipython",
    "version": 3
   },
   "file_extension": ".py",
   "mimetype": "text/x-python",
   "name": "python",
   "nbconvert_exporter": "python",
   "pygments_lexer": "ipython3",
   "version": "3.10.9"
  }
 },
 "nbformat": 4,
 "nbformat_minor": 5
}
